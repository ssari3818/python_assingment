{
  "nbformat": 4,
  "nbformat_minor": 0,
  "metadata": {
    "colab": {
      "name": "şifre_oluştur.ipynb",
      "provenance": [],
      "authorship_tag": "ABX9TyOuFPsxwFaN1/TunZFkkEi2",
      "include_colab_link": true
    },
    "kernelspec": {
      "name": "python3",
      "display_name": "Python 3"
    },
    "language_info": {
      "name": "python"
    }
  },
  "cells": [
    {
      "cell_type": "markdown",
      "metadata": {
        "id": "view-in-github",
        "colab_type": "text"
      },
      "source": [
        "<a href=\"https://colab.research.google.com/github/ssari3818/python_assingment/blob/master/%C5%9Fifre_olu%C5%9Ftur.ipynb\" target=\"_parent\"><img src=\"https://colab.research.google.com/assets/colab-badge.svg\" alt=\"Open In Colab\"/></a>"
      ]
    },
    {
      "cell_type": "code",
      "execution_count": null,
      "metadata": {
        "id": "0Pnh9sCsh5Jt"
      },
      "outputs": [],
      "source": [
        "import random"
      ]
    },
    {
      "cell_type": "code",
      "source": [
        "def şifrem():\n",
        "    uppers = [chr(random.randint(65,90)) for i in range(4)]\n",
        "    lowers = [chr(random.randint(97,122)) for i in range(4)]\n",
        "    numbers = [chr(random.randint(48,57)) for i in range(4)]\n",
        "    chars = chr(random.randint(33,47)) + chr(random.randint(58,64))\n",
        "    passw =\"\".join(uppers) + \"\".join(lowers) + \"\".join(numbers) + \"\".join(chars)\n",
        "    temp = list(passw)\n",
        "    random.shuffle(temp)\n",
        "    print(\"-\".join(temp))\n",
        "şifrem()"
      ],
      "metadata": {
        "colab": {
          "base_uri": "https://localhost:8080/"
        },
        "id": "AszO0zSph-oh",
        "outputId": "1c387537-76b4-43de-db6e-b3c2ae5580ff"
      },
      "execution_count": 5,
      "outputs": [
        {
          "output_type": "stream",
          "name": "stdout",
          "text": [
            "0->-3-4-w-i-F-P-3-u-F-E-$-n\n"
          ]
        }
      ]
    }
  ]
}