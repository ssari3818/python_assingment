{
  "nbformat": 4,
  "nbformat_minor": 0,
  "metadata": {
    "colab": {
      "name": "Untitled37.ipynb",
      "provenance": [],
      "authorship_tag": "ABX9TyMEZ4sk5fJ1UgjY0BIXm4Fa",
      "include_colab_link": true
    },
    "kernelspec": {
      "name": "python3",
      "display_name": "Python 3"
    },
    "language_info": {
      "name": "python"
    }
  },
  "cells": [
    {
      "cell_type": "markdown",
      "metadata": {
        "id": "view-in-github",
        "colab_type": "text"
      },
      "source": [
        "<a href=\"https://colab.research.google.com/github/ssari3818/python_assingment/blob/master/asal%20say%C4%B1%20m%C4%B1.ipynb\" target=\"_parent\"><img src=\"https://colab.research.google.com/assets/colab-badge.svg\" alt=\"Open In Colab\"/></a>"
      ]
    },
    {
      "cell_type": "code",
      "metadata": {
        "colab": {
          "base_uri": "https://localhost:8080/"
        },
        "id": "AWODoF6pf7Ef",
        "outputId": "aadbd6af-4e1b-482c-d58f-29e14462c3e9"
      },
      "source": [
        "num = int(input(\"Enter a number: \"))\n",
        "bolen = []\n",
        "for i in range(2,num+1):\n",
        "  if num % i == 0:\n",
        "    bolen.append(i)\n",
        "if len(bolen) >= 1:\n",
        "  print(f\"{num} bir asal sayı değildir.\")\n",
        "else :\n",
        "  print(f\"{num} bir asal sayıdır.\")\n"
      ],
      "execution_count": 19,
      "outputs": [
        {
          "output_type": "stream",
          "name": "stdout",
          "text": [
            "Enter a number: 45\n",
            "45 bir asal sayı değildir.\n"
          ]
        }
      ]
    }
  ]
}