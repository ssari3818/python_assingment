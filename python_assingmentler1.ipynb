{
  "nbformat": 4,
  "nbformat_minor": 0,
  "metadata": {
    "colab": {
      "name": "python_assingmentler.ipynb",
      "provenance": [],
      "authorship_tag": "ABX9TyOelQpUOIyRHkrAYD0vZU6o",
      "include_colab_link": true
    },
    "kernelspec": {
      "name": "python3",
      "display_name": "Python 3"
    },
    "language_info": {
      "name": "python"
    }
  },
  "cells": [
    {
      "cell_type": "markdown",
      "metadata": {
        "id": "view-in-github",
        "colab_type": "text"
      },
      "source": [
        "<a href=\"https://colab.research.google.com/github/ssari3818/python_assingment/blob/master/python_assingmentler1.ipynb\" target=\"_parent\"><img src=\"https://colab.research.google.com/assets/colab-badge.svg\" alt=\"Open In Colab\"/></a>"
      ]
    },
    {
      "cell_type": "code",
      "metadata": {
        "colab": {
          "base_uri": "https://localhost:8080/"
        },
        "id": "qhBsmYRSZVpf",
        "outputId": "d2cb53e9-67e0-42a3-b0f6-671895ce2062"
      },
      "source": [
        "age =  input(\"Are you over 75 years old? True/False? :\").capitalize()\n",
        "chronic = input(\"Do you have a chronic illness? True/False :\").capitalize()\n",
        "immune =  input(\"Do you smoke? True/False? :\").capitalize()\n",
        "\n",
        "\n",
        "if (age or chronic or immune) == True:\n",
        "  print(\"You are in risky group\")\n",
        "elif (age or chronic or immune) != True:\n",
        "  print(\"You are not in risky group\")\n",
        "\n"
      ],
      "execution_count": 12,
      "outputs": [
        {
          "output_type": "stream",
          "name": "stdout",
          "text": [
            "Are you over 75 years old? True/False? :false\n",
            "Do you have a chronic illness? True/False :false\n",
            "Do you smoke? True/False? :false\n",
            "You are not in risky group\n"
          ]
        }
      ]
    },
    {
      "cell_type": "code",
      "metadata": {
        "id": "prOTJwqDa6N_"
      },
      "source": [
        ""
      ],
      "execution_count": null,
      "outputs": []
    },
    {
      "cell_type": "code",
      "metadata": {
        "id": "YmMTX4YzZfDn"
      },
      "source": [
        ""
      ],
      "execution_count": null,
      "outputs": []
    },
    {
      "cell_type": "code",
      "metadata": {
        "id": "QWqrDNxXZfGc"
      },
      "source": [
        ""
      ],
      "execution_count": null,
      "outputs": []
    },
    {
      "cell_type": "code",
      "metadata": {
        "id": "pLjBYeLqZfJU"
      },
      "source": [
        ""
      ],
      "execution_count": null,
      "outputs": []
    },
    {
      "cell_type": "code",
      "metadata": {
        "id": "_H0DSSugZfMN"
      },
      "source": [
        ""
      ],
      "execution_count": null,
      "outputs": []
    }
  ]
}