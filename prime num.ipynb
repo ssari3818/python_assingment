{
  "nbformat": 4,
  "nbformat_minor": 0,
  "metadata": {
    "colab": {
      "name": "Untitled3.ipynb",
      "provenance": [],
      "authorship_tag": "ABX9TyMX20kW4VFEJ2A8TzDTKPzP",
      "include_colab_link": true
    },
    "kernelspec": {
      "name": "python3",
      "display_name": "Python 3"
    },
    "language_info": {
      "name": "python"
    }
  },
  "cells": [
    {
      "cell_type": "markdown",
      "metadata": {
        "id": "view-in-github",
        "colab_type": "text"
      },
      "source": [
        "<a href=\"https://colab.research.google.com/github/ssari3818/python_assingment/blob/master/prime%20num.ipynb\" target=\"_parent\"><img src=\"https://colab.research.google.com/assets/colab-badge.svg\" alt=\"Open In Colab\"/></a>"
      ]
    },
    {
      "cell_type": "code",
      "metadata": {
        "colab": {
          "base_uri": "https://localhost:8080/"
        },
        "id": "cn6Cp5IbYmgJ",
        "outputId": "774ca152-5916-4173-afe9-254596b4b50c"
      },
      "source": [
        "num = int(input(\"Enter a number :\"))\n",
        "\n",
        "bolen = 0\n",
        " \n",
        "for i in range(1,num + 1):\n",
        "  if num % i == 0:\n",
        "    bolen += 1\n",
        "if (num == 0) or (num == 1) or (bolen >= 3):\n",
        "  print(\"{} is not prime..\".format(num))  \n",
        "else:\n",
        "  print(\"{} is a prime...\".format(num))"
      ],
      "execution_count": 3,
      "outputs": [
        {
          "output_type": "stream",
          "name": "stdout",
          "text": [
            "Enter a number :19\n",
            "19 is a prime...\n"
          ]
        }
      ]
    }
  ]
}