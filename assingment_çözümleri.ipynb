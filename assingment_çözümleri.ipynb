{
  "nbformat": 4,
  "nbformat_minor": 0,
  "metadata": {
    "colab": {
      "name": "assingment-çözümleri.ipynb",
      "provenance": [],
      "authorship_tag": "ABX9TyMDJHRlsyRwgM+jxGB0ABF6",
      "include_colab_link": true
    },
    "kernelspec": {
      "name": "python3",
      "display_name": "Python 3"
    },
    "language_info": {
      "name": "python"
    }
  },
  "cells": [
    {
      "cell_type": "markdown",
      "metadata": {
        "id": "view-in-github",
        "colab_type": "text"
      },
      "source": [
        "<a href=\"https://colab.research.google.com/github/ssari3818/python_assingment/blob/master/assingment_%C3%A7%C3%B6z%C3%BCmleri.ipynb\" target=\"_parent\"><img src=\"https://colab.research.google.com/assets/colab-badge.svg\" alt=\"Open In Colab\"/></a>"
      ]
    },
    {
      "cell_type": "markdown",
      "metadata": {
        "id": "W0ctFMD8eKio"
      },
      "source": [
        "1 den verilen sayıya kadar asal sayılar:\n"
      ]
    },
    {
      "cell_type": "code",
      "metadata": {
        "id": "UUlmqlUCO0sB"
      },
      "source": [
        "def asal_sayı_bul(n):\n",
        "  bolen = []\n",
        "  liste = []\n",
        "  asal_sayılar = []\n",
        "  \n",
        "  for i in range(2, n + 1):\n",
        "    for j in range(2, i + 1):\n",
        "      if i % j == 0:\n",
        "        bolen.append(i)\n",
        "  for x in bolen:\n",
        "    if bolen.count(x) == 1:\n",
        "      liste.append(x)\n",
        "  for i in liste:\n",
        "    asal_sayılar.append(int(i))\n",
        "  return asal_sayılar\n",
        "\n",
        "asal_sayı_bul(100)"
      ],
      "execution_count": null,
      "outputs": []
    }
  ]
}