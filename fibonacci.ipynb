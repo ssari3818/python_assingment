{
  "nbformat": 4,
  "nbformat_minor": 0,
  "metadata": {
    "colab": {
      "name": "fibonacci.ipynb",
      "provenance": [],
      "authorship_tag": "ABX9TyM2cubyNvkGQDxe1/wXEa7k",
      "include_colab_link": true
    },
    "kernelspec": {
      "name": "python3",
      "display_name": "Python 3"
    },
    "language_info": {
      "name": "python"
    }
  },
  "cells": [
    {
      "cell_type": "markdown",
      "metadata": {
        "id": "view-in-github",
        "colab_type": "text"
      },
      "source": [
        "<a href=\"https://colab.research.google.com/github/ssari3818/python_assingment/blob/master/fibonacci.ipynb\" target=\"_parent\"><img src=\"https://colab.research.google.com/assets/colab-badge.svg\" alt=\"Open In Colab\"/></a>"
      ]
    },
    {
      "cell_type": "code",
      "metadata": {
        "id": "n1Lgl6Jvlzz6"
      },
      "source": [
        "fibonacci = [1, 1]\n",
        "while True:\n",
        "  sayı = fibonacci[-1] + fibonacci[-2]\n",
        "  fibonacci.append(sayı)\n",
        "  if fibonacci[-1] == 55:\n",
        "    break\n",
        " \n",
        "print(\"0 ie 55 arasındaki fibonacci sayıları =\", fibonacci)"
      ],
      "execution_count": null,
      "outputs": []
    }
  ]
}